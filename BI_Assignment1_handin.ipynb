{
 "cells": [
  {
   "cell_type": "markdown",
   "metadata": {},
   "source": [
    "# Business Intelligence\n",
    "## Assignment 1\n",
    "### This assignment was made by Yosuke Ueda (cph-yu173)"
   ]
  },
  {
   "cell_type": "markdown",
   "metadata": {},
   "source": [
    "### 1. List all the files that this program generates."
   ]
  },
  {
   "cell_type": "markdown",
   "metadata": {},
   "source": [
    "Running the assignment_1.py generates the 4 following list of files:\n",
    "1. avg_price.txt\n",
    "2. price_list.csv\n",
    "3. price_list.txt\n",
    "4. prices.png"
   ]
  },
  {
   "cell_type": "markdown",
   "metadata": {},
   "source": [
    "### 2. Describe which types of files this program generates and attach the contents of each file together with its name to your solution."
   ]
  },
  {
   "cell_type": "markdown",
   "metadata": {},
   "source": [
    "1. avg_price.txt is a text file - it shows an average of a given price\n",
    "2. price_list.csv is a CSV file (comma separated file) - it is a price list in CSV format with an additional column (price_per_sqm)\n",
    "3. Price_list.txt is a text file - it is a price list in text format.\n",
    "4. Prices.png is a png file (Portable Network Graphics) it is an image - it is a scatterplot \n",
    "\n",
    "The files are attached"
   ]
  },
  {
   "cell_type": "markdown",
   "metadata": {},
   "source": [
    "### 3. What is the output of this program?"
   ]
  },
  {
   "cell_type": "markdown",
   "metadata": {},
   "source": [
    "The output of this program is the average of housing prices 3307228.119047619 for the listed house prices in Copenhagen"
   ]
  },
  {
   "cell_type": "markdown",
   "metadata": {},
   "source": [
    "### 4. Describe in natural language -- line-by-line of code -- what the Python script is doing"
   ]
  },
  {
   "cell_type": "markdown",
   "metadata": {},
   "source": [
    "The script starts by importing the relevant libraies. The program runs 5 methods (def...) and one run method which excecutes all the other methods. \n",
    "\n",
    "The run method do the following:\n",
    "Graps the url 'https://raw.githubusercontent.com/datsoftlyngby/soft2019fall-bi-teaching-material/master/week35/data/price_list.txt', and takes the last part which is the name of the file(price_list.txt), and attach it to a path (./price_list.txt). It further joins the path from you own current working directory with the following statement: csv_path = os.path.join(os.getcwd(), csv_file_name). It generates the path so that you will be in the location where to run the scripts and the files it creates with help from the other methods.\n",
    "\n",
    "\n",
    "1. Method download_txt method takes two argument url and save_path and by using requests.get(url) it downloads the content of that url and save it in a variable named response. It is written/saved in the desired path and file ./price_list.txt. It is written in wb (binary mode)  \n",
    "\n",
    "2. Method generate_csv takes the text file as input and output a csv file. The open method specifies the price_list.txt and reads all the lines with readlines method and store that content in txt_content variable. The price_list.txt originally only had the rows street, city, price and sqm, but a new column with header is added (price_per_sqm) with rows = [['street', 'city', 'price', 'sqm', 'price_per_sqm']] and by looping over the content it does the following to clean the data. It uses rstrip().replace('  * ', '') to remove the * and line.split('\\t') to eliminate the tab and simultaneously breaking the line into following variables address, price, sqm. Another line.split('; ') is splitting the string with ; and creating the other variables namely street, city. The price_per_sqm is calculated with Floor division. Price is converted to int and divided by sqm. The list/array rows which is already defined with header appends the new attributes inside the loop. The method makes an inqury regarding if one uses windows platform. The result of the looped content is now written ('w') to a csv file.\n",
    "\n",
    "3. Method read_prices reads the csv file (price_list.csv), and returns a pricelist with index. The reader(next) go through the csv file and with the loop it sets the price column to the position and fills two list. Index and price.\n",
    "\n",
    "4. Method compute_avg_price unzippes (zip(*)) the datafile generated from the method read_prices and uses statistics library to calculate the average of the pricelist which it will write to a file avg_price.txt. The method returns the average price.\n",
    "\n",
    "5. Method generate_plot unzippes the datafile and plot it to a scatterdiagram which can be used by importing matplotlib and save this file to prices.png"
   ]
  },
  {
   "cell_type": "markdown",
   "metadata": {},
   "source": [
    "### 5. Write (code) a function in the assignment_1.py file, which plots a histogram of the price data, with -- say -- 7 bins in the histogram."
   ]
  },
  {
   "cell_type": "markdown",
   "metadata": {},
   "source": [
    "def generate_histogram(data):\n",
    "    x_values, y_values = zip(*data)    \n",
    "    plt.title(\"Houseprice Histogram\")\n",
    "    plt.style.use('ggplot')\n",
    "    plt.ylabel('Price')    \n",
    "    plt.hist(y_values, bins=7)"
   ]
  },
  {
   "cell_type": "markdown",
   "metadata": {},
   "source": [
    "### 6. Write (text) a sentence into the assignment_1.py about the result of the histogram"
   ]
  },
  {
   "cell_type": "code",
   "execution_count": 93,
   "metadata": {},
   "outputs": [
    {
     "name": "stdout",
     "output_type": "stream",
     "text": [
      "3307228.119047619\n"
     ]
    },
    {
     "data": {
      "image/png": "[encoded data removed]",
      "text/plain": [
       "<Figure size 432x288 with 1 Axes>"
      ]
     },
     "metadata": {},
     "output_type": "display_data"
    }
   ],
   "source": [
    "import os\n",
    "import csv\n",
    "import requests\n",
    "import platform\n",
    "import statistics\n",
    "#import matplotlib\n",
    "#matplotlib.use('agg')\n",
    "import matplotlib.pyplot as plt\n",
    "%matplotlib inline\n",
    "\n",
    "\n",
    "def download_txt(url, save_path='./downloaded'):\n",
    "    response = requests.get(url)\n",
    "    with open(save_path, 'wb') as f:\n",
    "        f.write(response.content)\n",
    "               \n",
    "\n",
    "def generate_csv(txt_input_path, csv_output_path):\n",
    "    with open(txt_input_path, encoding='utf-8') as f:\n",
    "        txt_content = f.readlines()\n",
    "\n",
    "    rows = [['street', 'city', 'price', 'sqm', 'price_per_sqm']]\n",
    "    for line in txt_content:\n",
    "        line = line.rstrip().replace('  * ', '')\n",
    "        address, price, sqm = line.split('\\t')\n",
    "        street, city = address.split('; ')\n",
    "        price_per_sqm = int(price) // int(sqm)\n",
    "        row = (street, city, price, sqm, price_per_sqm)\n",
    "        rows.append(row)\n",
    "\n",
    "    if platform.system() == 'Windows':\n",
    "        newline=''\n",
    "    else:\n",
    "        newline=None\n",
    "\n",
    "    with open(csv_output_path, 'w', newline=newline, encoding='utf-8') as f:\n",
    "        output_writer = csv.writer(f)\n",
    "        for row in rows:\n",
    "            output_writer.writerow(row)\n",
    "\n",
    "\n",
    "def read_prices(csv_input_path):\n",
    "    with open(csv_input_path, encoding='utf-8') as f:\n",
    "        reader = csv.reader(f)\n",
    "        _ = next(reader)\n",
    "        idxs = []\n",
    "        prices = []\n",
    "        for row in reader:\n",
    "            _, _, price, _, _ = row            \n",
    "            idxs.append(reader.line_num)\n",
    "            prices.append(int(price))            \n",
    "\n",
    "    return list(zip(idxs, prices))\n",
    "\n",
    "\n",
    "def compute_avg_price(data):\n",
    "    _, prices = zip(*data)\n",
    "    avg_price = statistics.mean(prices)\n",
    "   \n",
    "    with open('avg_price.txt', 'w', encoding='utf-8') as f:\n",
    "        f.write(str(avg_price))\n",
    "\n",
    "    return avg_price\n",
    "\n",
    "\n",
    "def generate_plot(data):\n",
    "\n",
    "    x_values, y_values = zip(*data)\n",
    "    fig = plt.figure()\n",
    "    plt.scatter(x_values, y_values, s=100)\n",
    "    fig.savefig('./prices.png', bbox_inches='tight')\n",
    "\n",
    "def generate_histogram(data):\n",
    "    x_values, y_values = zip(*data)\n",
    "    \n",
    "    plt.title(\"Houseprice Histogram\")\n",
    "    plt.style.use('ggplot')\n",
    "    plt.xlabel('Price')    \n",
    "    plt.hist(y_values, bins=7)    \n",
    "        \n",
    "    \n",
    "\n",
    "def run():\n",
    "    file_url = 'https://raw.githubusercontent.com/datsoftlyngby/' \\\n",
    "               'soft2019fall-bi-teaching-material/master/' \\\n",
    "               'week35/data/price_list.txt'\n",
    "    txt_file_name = os.path.basename(file_url)\n",
    "    txt_path = os.path.join('./', txt_file_name)\n",
    "    download_txt(file_url, txt_path)\n",
    "    csv_file_name = 'price_list.csv'\n",
    "    csv_path = os.path.join(os.getcwd(), csv_file_name)\n",
    "    generate_csv(txt_path, csv_path)\n",
    "    data = read_prices(csv_path)\n",
    "    avg_price = compute_avg_price(data)\n",
    "    print(avg_price)\n",
    "    #generate_plot(data)\n",
    "    generate_histogram(data)\n",
    "\n",
    "#    ...\n",
    "# The histogram shows that the mean of houseprices are concentrated between 2 mill to 4 mill. \n",
    "# It fits with the average calculated by this scripts 3307228. However, in matter of visualization it would be better,\n",
    "# to increase the bins to 10 or 15, as it gives a better overview of the figure. \n",
    "\n",
    "\n",
    "if __name__ == '__main__':\n",
    "    run()"
   ]
  },
  {
   "cell_type": "code",
   "execution_count": null,
   "metadata": {},
   "outputs": [],
   "source": []
  }
 ],
 "metadata": {
  "kernelspec": {
   "display_name": "Python 3",
   "language": "python",
   "name": "python3"
  },
  "language_info": {
   "codemirror_mode": {
    "name": "ipython",
    "version": 3
   },
   "file_extension": ".py",
   "mimetype": "text/x-python",
   "name": "python",
   "nbconvert_exporter": "python",
   "pygments_lexer": "ipython3",
   "version": "3.6.5"
  }
 },
 "nbformat": 4,
 "nbformat_minor": 2
}
